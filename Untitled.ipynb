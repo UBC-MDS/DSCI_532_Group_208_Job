{
 "cells": [
  {
   "cell_type": "code",
   "execution_count": 1,
   "metadata": {},
   "outputs": [
    {
     "ename": "NameError",
     "evalue": "name 'df' is not defined",
     "output_type": "error",
     "traceback": [
      "\u001b[1;31m---------------------------------------------------------------------------\u001b[0m",
      "\u001b[1;31mNameError\u001b[0m                                 Traceback (most recent call last)",
      "\u001b[1;32m<ipython-input-1-5f773f52110b>\u001b[0m in \u001b[0;36m<module>\u001b[1;34m\u001b[0m\n\u001b[0;32m      2\u001b[0m \u001b[1;33m\u001b[0m\u001b[0m\n\u001b[0;32m      3\u001b[0m \u001b[1;31m# Filter the first and the last year\u001b[0m\u001b[1;33m\u001b[0m\u001b[1;33m\u001b[0m\u001b[1;33m\u001b[0m\u001b[0m\n\u001b[1;32m----> 4\u001b[1;33m \u001b[0mdf_year\u001b[0m \u001b[1;33m=\u001b[0m \u001b[0mdf\u001b[0m\u001b[1;33m.\u001b[0m\u001b[0mquery\u001b[0m\u001b[1;33m(\u001b[0m\u001b[1;34m\"year == 1850 or year == 2000\"\u001b[0m\u001b[1;33m)\u001b[0m\u001b[1;33m\u001b[0m\u001b[1;33m\u001b[0m\u001b[0m\n\u001b[0m\u001b[0;32m      5\u001b[0m \u001b[1;33m\u001b[0m\u001b[0m\n\u001b[0;32m      6\u001b[0m \u001b[1;31m# Group by job and year and aggregate the values\u001b[0m\u001b[1;33m\u001b[0m\u001b[1;33m\u001b[0m\u001b[1;33m\u001b[0m\u001b[0m\n",
      "\u001b[1;31mNameError\u001b[0m: name 'df' is not defined"
     ]
    }
   ],
   "source": [
    "no_of_professions = 10\n",
    "\n",
    "# Filter the first and the last year\n",
    "df_year = df.query(\"year == 1850 or year == 2000\")\n",
    "\n",
    "# Group by job and year and aggregate the values\n",
    "df_year_combined = df_year.groupby(['job', 'year']).aggregate(\n",
    "    {\n",
    "        'count': ['sum'],\n",
    "        'perc' : ['sum']\n",
    "    }\n",
    ")\n",
    "\n",
    "# Get the change in the count in year 1850 and 2000\n",
    "df_temp = df_year_combined.pivot_table(index = 'job', columns='year', values = ['perc','count'])\n",
    "df_temp['change'] = df_temp[('count','sum', 2000)] - df_temp[('count','sum', 1850)]\n",
    "\n",
    "# Jobs that have declined the most\n",
    "df_jobs_declined = list(df_temp.sort_values('change', ascending = True).head(no_of_professions).reset_index()['job','',''])\n",
    "\n",
    "# Jobs that have increased the most\n",
    "df_jobs_increased = list(df_temp.sort_values('change', ascending = False).head(no_of_professions).reset_index()['job','',''])\n",
    "\n",
    "\n",
    "# Get data from original data frame with the filtered j\n",
    "df_jobs_increased_filtered = df[df['job'].isin(df_jobs_increased)]#.drop(columns = ['max', 'min'])\n",
    "df_jobs_declined_filtered = df[df['job'].isin(df_jobs_declined)]#.drop(columns = ['max', 'min'])\n",
    "df_jobs_increased_filtered = df_jobs_increased_filtered.groupby(['job', 'year']).aggregate(\n",
    "    {\n",
    "        'perc' : ['sum']\n",
    "    }\n",
    ").reset_index()\n",
    "\n",
    "\n",
    "df_jobs_declined_filtered = df_jobs_declined_filtered.groupby(['job', 'year']).aggregate(\n",
    "    {\n",
    "        'perc' : ['sum']\n",
    "    }\n",
    ").reset_index(level = [0,1])\n",
    "\n",
    "df_jobs_declined_filtered['perc_sum'] = df_jobs_declined_filtered[('perc', 'sum')]\n",
    "df_jobs_declined_filtered = df_jobs_declined_filtered.drop(columns = [('perc','sum')])\n",
    "\n",
    "columns = ['job','year', 'perc_sum']\n",
    "df_jobs_declined_filtered_2 = pd.DataFrame(columns=columns)\n",
    "\n",
    "df_jobs_declined_filtered_2['job'] = df_jobs_declined_filtered['job']\n",
    "df_jobs_declined_filtered_2['year'] = df_jobs_declined_filtered['year']\n",
    "df_jobs_declined_filtered_2['perc_sum'] = df_jobs_declined_filtered['perc_sum'] * 100\n",
    "\n",
    "\n",
    "df_jobs_increased_filtered['perc_sum'] = df_jobs_increased_filtered[('perc', 'sum')]\n",
    "df_jobs_increased_filtered = df_jobs_increased_filtered.drop(columns = [('perc','sum')])\n",
    "\n",
    "columns = ['job','year', 'perc_sum']\n",
    "df_jobs_increased_filtered_2 = pd.DataFrame(columns=columns)\n",
    "\n",
    "df_jobs_increased_filtered_2['job'] = df_jobs_increased_filtered['job']\n",
    "df_jobs_increased_filtered_2['year'] = df_jobs_increased_filtered['year']\n",
    "df_jobs_increased_filtered_2['perc_sum'] = df_jobs_increased_filtered['perc_sum'] * 100"
   ]
  },
  {
   "cell_type": "code",
   "execution_count": null,
   "metadata": {},
   "outputs": [],
   "source": [
    "help(stats.linregress)"
   ]
  },
  {
   "cell_type": "code",
   "execution_count": null,
   "metadata": {},
   "outputs": [],
   "source": []
  },
  {
   "cell_type": "code",
   "execution_count": null,
   "metadata": {},
   "outputs": [],
   "source": []
  }
 ],
 "metadata": {
  "kernelspec": {
   "display_name": "Python 3",
   "language": "python",
   "name": "python3"
  },
  "language_info": {
   "codemirror_mode": {
    "name": "ipython",
    "version": 3
   },
   "file_extension": ".py",
   "mimetype": "text/x-python",
   "name": "python",
   "nbconvert_exporter": "python",
   "pygments_lexer": "ipython3",
   "version": "3.7.3"
  }
 },
 "nbformat": 4,
 "nbformat_minor": 4
}
